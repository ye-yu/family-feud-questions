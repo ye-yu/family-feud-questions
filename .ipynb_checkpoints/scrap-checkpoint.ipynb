{
 "cells": [
  {
   "cell_type": "code",
   "execution_count": 3,
   "metadata": {},
   "outputs": [
    {
     "ename": "ModuleNotFoundError",
     "evalue": "No module named 'requests'",
     "output_type": "error",
     "traceback": [
      "\u001b[0;31m---------------------------------------------------------------------------\u001b[0m",
      "\u001b[0;31mModuleNotFoundError\u001b[0m                       Traceback (most recent call last)",
      "\u001b[0;32m<ipython-input-3-00e9a0c76ec7>\u001b[0m in \u001b[0;36m<module>\u001b[0;34m\u001b[0m\n\u001b[1;32m      1\u001b[0m \u001b[0;32mimport\u001b[0m \u001b[0mos\u001b[0m\u001b[0;34m\u001b[0m\u001b[0;34m\u001b[0m\u001b[0m\n\u001b[1;32m      2\u001b[0m \u001b[0;32mimport\u001b[0m \u001b[0mbs4\u001b[0m\u001b[0;34m\u001b[0m\u001b[0;34m\u001b[0m\u001b[0m\n\u001b[0;32m----> 3\u001b[0;31m \u001b[0;32mimport\u001b[0m \u001b[0mrequests\u001b[0m\u001b[0;34m\u001b[0m\u001b[0;34m\u001b[0m\u001b[0m\n\u001b[0m",
      "\u001b[0;31mModuleNotFoundError\u001b[0m: No module named 'requests'"
     ]
    }
   ],
   "source": [
    "import os\n",
    "import bs4\n",
    "import requests"
   ]
  },
  {
   "cell_type": "code",
   "execution_count": 2,
   "metadata": {},
   "outputs": [],
   "source": [
    "links = [\n",
    "  \"https://www.momjunction.com/articles/family-feud-questions_00474806/\",\n",
    "  \"https://hobbylark.com/party-games/list-of-family-feud-questions\",\n",
    "  \"https://hobbylark.com/party-games/pop-culture-family-feud-questions\",\n",
    "  \"https://hobbylark.com/party-games/family-feud-adult-questions\"\n",
    "]"
   ]
  },
  {
   "cell_type": "code",
   "execution_count": null,
   "metadata": {},
   "outputs": [
    {
     "name": "stdout",
     "output_type": "stream",
     "text": [
      "Collecting package metadata (current_repodata.json): done\n",
      "Solving environment: done\n",
      "\n",
      "\n",
      "==> WARNING: A newer version of conda exists. <==\n",
      "  current version: 4.7.12\n",
      "  latest version: 4.8.3\n",
      "\n",
      "Please update conda by running\n",
      "\n",
      "    $ conda update -n base -c defaults conda\n",
      "\n",
      "\n",
      "\n",
      "## Package Plan ##\n",
      "\n",
      "  environment location: /home/slic/anaconda3/envs/web-scrap\n",
      "\n",
      "  added / updated specs:\n",
      "    - requests\n",
      "\n",
      "\n",
      "The following packages will be downloaded:\n",
      "\n",
      "    package                    |            build\n",
      "    ---------------------------|-----------------\n",
      "    asn1crypto-1.3.0           |           py37_0         162 KB  anaconda\n",
      "    ca-certificates-2020.1.1   |                0         132 KB  anaconda\n",
      "    certifi-2020.4.5.1         |           py37_0         159 KB  anaconda\n",
      "    cffi-1.14.0                |   py37h2e261b9_0         225 KB  anaconda\n",
      "    chardet-3.0.4              |        py37_1003         173 KB  anaconda\n",
      "    cryptography-2.8           |   py37h1ba5d50_0         612 KB  anaconda\n",
      "    idna-2.9                   |             py_1          56 KB  anaconda\n",
      "    openssl-1.1.1g             |       h7b6447c_0         3.8 MB  anaconda\n",
      "    pycparser-2.20             |             py_0          93 KB  anaconda\n",
      "    pyopenssl-19.1.0           |           py37_0          87 KB  anaconda\n",
      "    pysocks-1.7.1              |           py37_0          30 KB  anaconda\n",
      "    requests-2.23.0            |           py37_0          91 KB  anaconda\n",
      "    urllib3-1.25.8             |           py37_0         165 KB  anaconda\n",
      "    ------------------------------------------------------------\n",
      "                                           Total:         5.7 MB\n",
      "\n",
      "The following NEW packages will be INSTALLED:\n",
      "\n",
      "  asn1crypto         anaconda/linux-64::asn1crypto-1.3.0-py37_0\n",
      "  cffi               anaconda/linux-64::cffi-1.14.0-py37h2e261b9_0\n",
      "  chardet            anaconda/linux-64::chardet-3.0.4-py37_1003\n",
      "  cryptography       anaconda/linux-64::cryptography-2.8-py37h1ba5d50_0\n",
      "  idna               anaconda/noarch::idna-2.9-py_1\n",
      "  pycparser          anaconda/noarch::pycparser-2.20-py_0\n",
      "  pyopenssl          anaconda/linux-64::pyopenssl-19.1.0-py37_0\n",
      "  pysocks            anaconda/linux-64::pysocks-1.7.1-py37_0\n",
      "  requests           anaconda/linux-64::requests-2.23.0-py37_0\n",
      "  urllib3            anaconda/linux-64::urllib3-1.25.8-py37_0\n",
      "\n",
      "The following packages will be SUPERSEDED by a higher-priority channel:\n",
      "\n",
      "  ca-certificates                                 pkgs/main --> anaconda\n",
      "  certifi                                         pkgs/main --> anaconda\n",
      "  openssl                                         pkgs/main --> anaconda\n",
      "\n",
      "\n",
      "Proceed ([y]/n)? "
     ]
    }
   ],
   "source": [
    "!conda install -c anaconda requests "
   ]
  },
  {
   "cell_type": "code",
   "execution_count": null,
   "metadata": {},
   "outputs": [],
   "source": [
    "\"\""
   ]
  },
  {
   "cell_type": "code",
   "execution_count": null,
   "metadata": {},
   "outputs": [],
   "source": []
  }
 ],
 "metadata": {
  "kernelspec": {
   "display_name": "Python 3",
   "language": "python",
   "name": "python3"
  },
  "language_info": {
   "codemirror_mode": {
    "name": "ipython",
    "version": 3
   },
   "file_extension": ".py",
   "mimetype": "text/x-python",
   "name": "python",
   "nbconvert_exporter": "python",
   "pygments_lexer": "ipython3",
   "version": "3.7.7"
  }
 },
 "nbformat": 4,
 "nbformat_minor": 4
}
