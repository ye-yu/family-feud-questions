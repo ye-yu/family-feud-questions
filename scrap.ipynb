{
 "cells": [
  {
   "cell_type": "code",
   "execution_count": 111,
   "metadata": {},
   "outputs": [],
   "source": [
    "import os\n",
    "import bs4\n",
    "import requests\n",
    "import json"
   ]
  },
  {
   "cell_type": "code",
   "execution_count": 2,
   "metadata": {},
   "outputs": [],
   "source": [
    "links = [\n",
    "  \"https://www.momjunction.com/articles/family-feud-questions_00474806/\",\n",
    "  \"https://hobbylark.com/party-games/list-of-family-feud-questions\",\n",
    "  \"https://hobbylark.com/party-games/pop-culture-family-feud-questions\",\n",
    "  \"https://hobbylark.com/party-games/family-feud-adult-questions\"\n",
    "]"
   ]
  },
  {
   "cell_type": "code",
   "execution_count": 64,
   "metadata": {},
   "outputs": [],
   "source": [
    "def bs_len(bs):\n",
    "  return len(list(bs))\n",
    "\n",
    "def nested_access(arr, *args):\n",
    "  if len(args) > 1:\n",
    "    return nested_access(list(arr)[args[0]], *args[1:])\n",
    "  return list(arr)[args[0]]"
   ]
  },
  {
   "cell_type": "code",
   "execution_count": 3,
   "metadata": {},
   "outputs": [],
   "source": [
    "select = 0\n",
    "link = links[select]"
   ]
  },
  {
   "cell_type": "code",
   "execution_count": 4,
   "metadata": {},
   "outputs": [],
   "source": [
    "page = requests.get(link).content"
   ]
  },
  {
   "cell_type": "code",
   "execution_count": 7,
   "metadata": {},
   "outputs": [],
   "source": [
    "soup = bs4.BeautifulSoup(page, 'html.parser')"
   ]
  },
  {
   "cell_type": "code",
   "execution_count": 29,
   "metadata": {},
   "outputs": [],
   "source": [
    "html = list(list(soup.children)[1].children)[1]"
   ]
  },
  {
   "cell_type": "code",
   "execution_count": 75,
   "metadata": {},
   "outputs": [],
   "source": [
    "content = nested_access(html.children, 4, 0, 0, 0, 1, 0)"
   ]
  },
  {
   "cell_type": "code",
   "execution_count": 76,
   "metadata": {},
   "outputs": [
    {
     "data": {
      "text/plain": [
       "365"
      ]
     },
     "execution_count": 76,
     "metadata": {},
     "output_type": "execute_result"
    }
   ],
   "source": [
    "bs_len(content)"
   ]
  },
  {
   "cell_type": "code",
   "execution_count": 105,
   "metadata": {},
   "outputs": [
    {
     "name": "stdout",
     "output_type": "stream",
     "text": [
      "Alert: Recurring <p> tag. Overwriting previous question\n",
      "Alert: Recurring <p> tag. Overwriting previous question\n",
      "Alert: Recurring <p> tag. Overwriting previous question\n",
      "Alert: Recurring <p> tag. Overwriting previous question\n",
      "Alert: Recurring <p> tag. Overwriting previous question\n",
      "Alert: Recurring <p> tag. Overwriting previous question\n"
     ]
    }
   ],
   "source": [
    "questions = []\n",
    "answers = []\n",
    "\n",
    "prev = {\n",
    "  \"name\": None,\n",
    "  \"text\": None\n",
    "}\n",
    "for i, tag in enumerate(content):\n",
    "  if (i < 44 or i > 354): continue\n",
    "  if (tag.name == \"p\"):\n",
    "    if prev[\"name\"] == tag.name:\n",
    "      print(\"Alert: Recurring <p> tag. Overwriting previous question\")\n",
    "      questions[-1] = tag.text\n",
    "    else:\n",
    "      questions += [tag.text]\n",
    "      prev[\"name\"] = tag.name\n",
    "      prev[\"text\"] = tag.text\n",
    "  if (tag.name == \"ul\"):\n",
    "    answers += [[option.text for option in tag]]\n",
    "    prev[\"name\"] = tag.name\n",
    "    prev[\"text\"] = tag.text\n",
    "assert len(questions) == len(answers)"
   ]
  },
  {
   "cell_type": "code",
   "execution_count": 112,
   "metadata": {},
   "outputs": [],
   "source": [
    "q1 = [{\"question\": q.split(\" \", 1)[1], \"answer\": a} for (q, a) in zip(questions, answers)]"
   ]
  },
  {
   "cell_type": "code",
   "execution_count": 116,
   "metadata": {},
   "outputs": [],
   "source": [
    "json.dump(q1, open(\"output/0.json\", \"w\"), indent=2)"
   ]
  },
  {
   "cell_type": "code",
   "execution_count": null,
   "metadata": {},
   "outputs": [],
   "source": []
  }
 ],
 "metadata": {
  "kernelspec": {
   "display_name": "Python 3",
   "language": "python",
   "name": "python3"
  },
  "language_info": {
   "codemirror_mode": {
    "name": "ipython",
    "version": 3
   },
   "file_extension": ".py",
   "mimetype": "text/x-python",
   "name": "python",
   "nbconvert_exporter": "python",
   "pygments_lexer": "ipython3",
   "version": "3.7.7"
  }
 },
 "nbformat": 4,
 "nbformat_minor": 4
}
