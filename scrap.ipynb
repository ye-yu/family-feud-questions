{
 "cells": [
  {
   "cell_type": "code",
   "execution_count": 1,
   "metadata": {},
   "outputs": [],
   "source": [
    "import os\n",
    "import bs4\n",
    "import requests\n",
    "import json"
   ]
  },
  {
   "cell_type": "code",
   "execution_count": 2,
   "metadata": {},
   "outputs": [],
   "source": [
    "links = [\n",
    "  \"https://www.momjunction.com/articles/family-feud-questions_00474806/\",\n",
    "  \"https://hobbylark.com/party-games/list-of-family-feud-questions\",\n",
    "  \"https://hobbylark.com/party-games/pop-culture-family-feud-questions\",\n",
    "  \"https://hobbylark.com/party-games/family-feud-adult-questions\"\n",
    "]"
   ]
  },
  {
   "cell_type": "code",
   "execution_count": 3,
   "metadata": {},
   "outputs": [],
   "source": [
    "def bs_len(bs):\n",
    "  return len(list(bs))\n",
    "\n",
    "def nested_access(arr, *args):\n",
    "  if len(args) > 1:\n",
    "    return nested_access(list(arr)[args[0]], *args[1:])\n",
    "  return list(arr)[args[0]]"
   ]
  },
  {
   "cell_type": "code",
   "execution_count": 4,
   "metadata": {},
   "outputs": [],
   "source": [
    "select = 1\n",
    "link = links[select]"
   ]
  },
  {
   "cell_type": "markdown",
   "metadata": {},
   "source": [
    "**Web 1**"
   ]
  },
  {
   "cell_type": "code",
   "execution_count": 4,
   "metadata": {},
   "outputs": [],
   "source": [
    "page = requests.get(link).content\n",
    "soup = bs4.BeautifulSoup(page, 'html.parser')\n",
    "html = list(list(soup.children)[1].children)[1]\n",
    "content = nested_access(html.children, 4, 0, 0, 0, 1, 0)\n",
    "\n",
    "questions = []\n",
    "answers = []\n",
    "\n",
    "prev = {\n",
    "  \"name\": None,\n",
    "  \"text\": None\n",
    "}\n",
    "for i, tag in enumerate(content):\n",
    "  if (i < 44 or i > 354): continue\n",
    "  if (tag.name == \"p\"):\n",
    "    if prev[\"name\"] == tag.name:\n",
    "      print(\"Alert: Recurring <p> tag. Overwriting previous question\")\n",
    "      questions[-1] = tag.text\n",
    "    else:\n",
    "      questions += [tag.text]\n",
    "      prev[\"name\"] = tag.name\n",
    "      prev[\"text\"] = tag.text\n",
    "  if (tag.name == \"ul\"):\n",
    "    answers += [[option.text for option in tag]]\n",
    "    prev[\"name\"] = tag.name\n",
    "    prev[\"text\"] = tag.text\n",
    "assert len(questions) == len(answers)\n",
    "\n",
    "q1 = [{\"question\": q.split(\" \", 1)[1], \"answer\": a} for (q, a) in zip(questions, answers)]\n",
    "json.dump(q1, open(\"output/0.json\", \"w\"), indent=2)"
   ]
  },
  {
   "cell_type": "markdown",
   "metadata": {},
   "source": [
    "**Web 2**"
   ]
  },
  {
   "cell_type": "code",
   "execution_count": 38,
   "metadata": {},
   "outputs": [],
   "source": [
    "select = 3\n",
    "link = links[select]\n",
    "page = requests.get(link).content\n",
    "soup = bs4.BeautifulSoup(page, 'html.parser')\n",
    "\n",
    "all_mod_table = soup.find_all(class_=\"moduleTable\")\n",
    "\n",
    "questions = []\n",
    "answers = []\n",
    "for module in all_mod_table:\n",
    "  try:\n",
    "    question = module.find_all(\"h2\")[0].text\n",
    "    answer_grp = module.findAll(class_=\"firstCell\")\n",
    "    q_answers = [i.text.strip() for i in answer_grp if i.text.strip() != '']\n",
    "    \n",
    "    questions += [question]\n",
    "    answers += [q_answers]\n",
    "  except IndexError as e:\n",
    "    continue\n",
    "assert len(questions) == len(answers)\n",
    "\n",
    "q2 = [{\"question\": q, \"answer\": a} for (q, a) in zip(questions, answers)]\n",
    "json.dump(q2, open(\"output/\" + str(select) +\".json\", \"w\"), indent=2)"
   ]
  },
  {
   "cell_type": "code",
   "execution_count": 8,
   "metadata": {},
   "outputs": [],
   "source": []
  },
  {
   "cell_type": "code",
   "execution_count": 30,
   "metadata": {},
   "outputs": [],
   "source": []
  },
  {
   "cell_type": "code",
   "execution_count": 35,
   "metadata": {},
   "outputs": [],
   "source": []
  },
  {
   "cell_type": "code",
   "execution_count": null,
   "metadata": {},
   "outputs": [],
   "source": []
  }
 ],
 "metadata": {
  "kernelspec": {
   "display_name": "Python 3",
   "language": "python",
   "name": "python3"
  },
  "language_info": {
   "codemirror_mode": {
    "name": "ipython",
    "version": 3
   },
   "file_extension": ".py",
   "mimetype": "text/x-python",
   "name": "python",
   "nbconvert_exporter": "python",
   "pygments_lexer": "ipython3",
   "version": "3.7.7"
  }
 },
 "nbformat": 4,
 "nbformat_minor": 4
}
